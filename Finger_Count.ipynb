{
 "cells": [
  {
   "cell_type": "code",
   "execution_count": 1,
   "metadata": {},
   "outputs": [],
   "source": [
    "import cv2\n",
    "import numpy as np\n",
    "from sklearn.metrics import pairwise"
   ]
  },
  {
   "cell_type": "code",
   "execution_count": 2,
   "metadata": {},
   "outputs": [],
   "source": [
    "background = None\n",
    "average_weight = 0.5\n",
    "roi_top = 20\n",
    "roi_bottom = 300\n",
    "roi_right = 300\n",
    "roi_left = 600"
   ]
  },
  {
   "cell_type": "code",
   "execution_count": 3,
   "metadata": {},
   "outputs": [],
   "source": [
    "def calc_avg(frame,average_weight):\n",
    "    global background\n",
    "    if background is None:\n",
    "        background = frame.copy().astype('float')\n",
    "        return None\n",
    "    cv2.accumulateWeighted(frame,background,average_weight)"
   ]
  },
  {
   "cell_type": "code",
   "execution_count": 4,
   "metadata": {},
   "outputs": [],
   "source": [
    "def segment(frame,th=25):\n",
    "    global background\n",
    "    diff = cv2.absdiff(background.astype('uint8'),frame)\n",
    "    ret, th_img = cv2.threshold(diff,th,255,cv2.THRESH_BINARY)\n",
    "    image,contours,hierarchy = cv2.findContours(th_img.copy(),cv2.RETR_EXTERNAL,cv2.CHAIN_APPROX_SIMPLE)\n",
    "    if len(contours)==0:\n",
    "        return None\n",
    "    else:\n",
    "        #ASSUMING LARGEST EXTERNAL CONT IN ROI IS HAND\n",
    "        hand_segment = max(contours,key=cv2.contourArea)\n",
    "        return (th_img,hand_segment)"
   ]
  },
  {
   "cell_type": "code",
   "execution_count": 5,
   "metadata": {},
   "outputs": [],
   "source": [
    "def count_fingers(th_img,hand_segment):\n",
    "    conv_hull = cv2.convexHull(hand_segment)\n",
    "    top = tuple(conv_hull[conv_hull[:,:,1].argmin()][0])\n",
    "    bottom = tuple(conv_hull[conv_hull[:,:,1].argmax()][0])\n",
    "    left = tuple(conv_hull[conv_hull[:,:,0].argmin()][0])\n",
    "    right = tuple(conv_hull[conv_hull[:,:,0].argmax()][0])\n",
    "    \n",
    "    center_x = (left[0]+right[0])//2\n",
    "    center_y = (top[1]+bottom[1])//2\n",
    "    \n",
    "    distance = pairwise.euclidean_distances([(center_x,center_y)],Y=[left,right,top,bottom])[0]\n",
    "    max_distance = distance.max()\n",
    "    radius = int(0.9*max_distance)\n",
    "    circum = 2*np.pi*radius\n",
    "    \n",
    "    cir_roi = np.zeros(th_img.shape[:2],dtype='uint8')\n",
    "    cv2.circle(cir_roi,(center_x,center_y),radius,255,10)\n",
    "    cir_roi = cv2.bitwise_and(th_img,th_img,mask=cir_roi)\n",
    "    \n",
    "    image,contours,hierarchy = cv2.findContours(cir_roi.copy(),cv2.RETR_EXTERNAL,cv2.CHAIN_APPROX_NONE)\n",
    "    count = 0\n",
    "    for cnt in contours:\n",
    "        (x,y,w,h) = cv2.boundingRect(cnt)\n",
    "        out_of_bound = center_y*1.25 > y+h\n",
    "        limit_points = circum*0.25 > cnt.shape[0]\n",
    "        \n",
    "        if out_of_bound and limit_points:\n",
    "            count+=1\n",
    "    return count"
   ]
  },
  {
   "cell_type": "code",
   "execution_count": 8,
   "metadata": {},
   "outputs": [],
   "source": [
    "cam = cv2.VideoCapture(0)\n",
    "num_frames = 0\n",
    "while True:\n",
    "    ret, frame = cam.read(0)\n",
    "    frame = cv2.flip(frame, 1)\n",
    "    frame_copy = frame.copy()\n",
    "    roi = frame[roi_top:roi_bottom,roi_right:roi_left]\n",
    "    gray = cv2.cvtColor(roi,cv2.COLOR_BGR2GRAY)\n",
    "    gray = cv2.GaussianBlur(gray,(7,7),0)\n",
    "    \n",
    "    if num_frames<60:\n",
    "        calc_avg(gray,average_weight)\n",
    "        if num_frames<=59:\n",
    "            cv2.putText(frame_copy,'WAIT. GETTING BACKGROUND',(200,300),cv2.FONT_HERSHEY_SIMPLEX,1,(0,0,255),2)\n",
    "            cv2.imshow('Finger Count',frame_copy)\n",
    "    else:\n",
    "        hand = segment(gray)\n",
    "        if hand is not None:\n",
    "            th_img,hand_segment = hand\n",
    "            \n",
    "            #DRAWS CONTOUR AROUND REAL HAND\n",
    "            cv2.drawContours(frame_copy,[hand_segment+(roi_right,roi_top)],-1,(255,0,0),3)\n",
    "            fingers = count_fingers(th_img,hand_segment)\n",
    "            cv2.putText(frame_copy,str(fingers),(70,50),cv2.FONT_HERSHEY_SIMPLEX,1,(0,0,255),2)\n",
    "            cv2.imshow('Thresholded',th_img)\n",
    "    \n",
    "    cv2.rectangle(frame_copy,(roi_left,roi_top),(roi_right,roi_bottom),(0,0,255),5)\n",
    "    num_frames+=1\n",
    "    cv2.imshow('Finger Count',frame_copy)\n",
    "    k = cv2.waitKey(1) & 0xFF\n",
    "    if k==27:\n",
    "        break\n",
    "cam.release()\n",
    "cv2.destroyAllWindows()"
   ]
  },
  {
   "cell_type": "code",
   "execution_count": 22,
   "metadata": {},
   "outputs": [
    {
     "data": {
      "text/plain": [
       "'3.4.2'"
      ]
     },
     "execution_count": 22,
     "metadata": {},
     "output_type": "execute_result"
    }
   ],
   "source": []
  },
  {
   "cell_type": "code",
   "execution_count": null,
   "metadata": {},
   "outputs": [],
   "source": []
  },
  {
   "cell_type": "code",
   "execution_count": 24,
   "metadata": {},
   "outputs": [],
   "source": []
  },
  {
   "cell_type": "code",
   "execution_count": null,
   "metadata": {},
   "outputs": [],
   "source": []
  }
 ],
 "metadata": {
  "kernelspec": {
   "display_name": "Python 3",
   "language": "python",
   "name": "python3"
  },
  "language_info": {
   "codemirror_mode": {
    "name": "ipython",
    "version": 3
   },
   "file_extension": ".py",
   "mimetype": "text/x-python",
   "name": "python",
   "nbconvert_exporter": "python",
   "pygments_lexer": "ipython3",
   "version": "3.6.6"
  }
 },
 "nbformat": 4,
 "nbformat_minor": 2
}
